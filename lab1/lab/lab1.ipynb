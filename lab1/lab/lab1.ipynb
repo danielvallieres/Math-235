{
 "cells": [
  {
   "cell_type": "markdown",
   "id": "6c6da440",
   "metadata": {},
   "source": [
    "# Computer Lab 1"
   ]
  },
  {
   "cell_type": "markdown",
   "id": "cf1393d7",
   "metadata": {},
   "source": [
    "The software [SageMath](https://www.sagemath.org) is an open-source (and free) computer algebra system that can be used to perform many calculations in mathematics.  Here, we will use it to make calculations in linear algebra.  Without further ado, let's just dive right into it."
   ]
  },
  {
   "cell_type": "markdown",
   "id": "f7588532",
   "metadata": {},
   "source": [
    "Here is a snippet of code that should be self-explanatory:"
   ]
  },
  {
   "cell_type": "code",
   "execution_count": 1,
   "id": "720b10fc",
   "metadata": {},
   "outputs": [],
   "source": [
    "A = matrix([[1,3],[4,5]])\n",
    "B = matrix([[2,4],[3,5]])"
   ]
  },
  {
   "cell_type": "code",
   "execution_count": 2,
   "id": "315d5711",
   "metadata": {
    "scrolled": true
   },
   "outputs": [
    {
     "data": {
      "text/plain": [
       "[1 3]\n",
       "[4 5]"
      ]
     },
     "execution_count": 2,
     "metadata": {},
     "output_type": "execute_result"
    }
   ],
   "source": [
    "A"
   ]
  },
  {
   "cell_type": "code",
   "execution_count": 3,
   "id": "c6d94e91",
   "metadata": {},
   "outputs": [
    {
     "data": {
      "text/plain": [
       "[2 4]\n",
       "[3 5]"
      ]
     },
     "execution_count": 3,
     "metadata": {},
     "output_type": "execute_result"
    }
   ],
   "source": [
    "B"
   ]
  },
  {
   "cell_type": "markdown",
   "id": "64ad8be8",
   "metadata": {},
   "source": [
    "One can perform the basic algebraic operations on matrices as follows:"
   ]
  },
  {
   "cell_type": "code",
   "execution_count": 4,
   "id": "365656df",
   "metadata": {},
   "outputs": [
    {
     "data": {
      "text/plain": [
       "[ 3  7]\n",
       "[ 7 10]"
      ]
     },
     "execution_count": 4,
     "metadata": {},
     "output_type": "execute_result"
    }
   ],
   "source": [
    "A + B"
   ]
  },
  {
   "cell_type": "code",
   "execution_count": 5,
   "id": "9e318ea4",
   "metadata": {},
   "outputs": [
    {
     "data": {
      "text/plain": [
       "[11 19]\n",
       "[23 41]"
      ]
     },
     "execution_count": 5,
     "metadata": {},
     "output_type": "execute_result"
    }
   ],
   "source": [
    "A * B"
   ]
  },
  {
   "cell_type": "code",
   "execution_count": 6,
   "id": "39d20699",
   "metadata": {},
   "outputs": [
    {
     "data": {
      "text/plain": [
       "[18 26]\n",
       "[23 34]"
      ]
     },
     "execution_count": 6,
     "metadata": {},
     "output_type": "execute_result"
    }
   ],
   "source": [
    "B * A"
   ]
  },
  {
   "cell_type": "markdown",
   "id": "803429b4",
   "metadata": {},
   "source": [
    "One can check if two matrices are the same by using the `==` symbol:"
   ]
  },
  {
   "cell_type": "code",
   "execution_count": 7,
   "id": "d86a6cd0",
   "metadata": {},
   "outputs": [
    {
     "data": {
      "text/plain": [
       "False"
      ]
     },
     "execution_count": 7,
     "metadata": {},
     "output_type": "execute_result"
    }
   ],
   "source": [
    "A == B"
   ]
  },
  {
   "cell_type": "code",
   "execution_count": 8,
   "id": "cfd729ee",
   "metadata": {},
   "outputs": [
    {
     "data": {
      "text/plain": [
       "True"
      ]
     },
     "execution_count": 8,
     "metadata": {},
     "output_type": "execute_result"
    }
   ],
   "source": [
    "A == A"
   ]
  },
  {
   "cell_type": "markdown",
   "id": "7c55f020",
   "metadata": {},
   "source": [
    "Now, it is your turn to play with Sage.  Consider the following two matrices:\n",
    "\n",
    "$$C = \\begin{pmatrix}1 & 2 & 3 \\\\ 4 & 5 & 6 \\end{pmatrix} \\text{ and } D = \\begin{pmatrix} -3 & 4\\\\ 5 & 6 \\end{pmatrix} $$\n",
    "\n",
    "Based on the examples above, enter those two matrices in SageMath in the cell below."
   ]
  },
  {
   "cell_type": "code",
   "execution_count": null,
   "id": "f58aadba",
   "metadata": {},
   "outputs": [],
   "source": []
  },
  {
   "cell_type": "markdown",
   "id": "4ad3e1d7",
   "metadata": {},
   "source": [
    "Try to calculate $C + D$ in the cell below, and notice what happens."
   ]
  },
  {
   "cell_type": "code",
   "execution_count": null,
   "id": "0bc7c561",
   "metadata": {},
   "outputs": [],
   "source": []
  },
  {
   "cell_type": "markdown",
   "id": "f39fd1a5",
   "metadata": {},
   "source": [
    "As you noticed, SageMath is returning an error message, since these two matrices cannot be added.  On the other hand, go ahead and calculate $D \\cdot C$ in the cell below. "
   ]
  },
  {
   "cell_type": "code",
   "execution_count": null,
   "id": "ac7964c1",
   "metadata": {},
   "outputs": [],
   "source": []
  }
 ],
 "metadata": {
  "kernelspec": {
   "display_name": "SageMath 9.6",
   "language": "sage",
   "name": "sagemath-9.6"
  },
  "language_info": {
   "codemirror_mode": {
    "name": "ipython",
    "version": 3
   },
   "file_extension": ".py",
   "mimetype": "text/x-python",
   "name": "python",
   "nbconvert_exporter": "python",
   "pygments_lexer": "ipython3",
   "version": "3.10.3"
  }
 },
 "nbformat": 4,
 "nbformat_minor": 5
}
