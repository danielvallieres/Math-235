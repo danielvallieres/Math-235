{
 "cells": [
  {
   "cell_type": "markdown",
   "id": "54f36760",
   "metadata": {},
   "source": [
    "# Row reduction (also known as Gauss elimination) and echelon forms"
   ]
  },
  {
   "cell_type": "markdown",
   "id": "0e75eceb",
   "metadata": {},
   "source": [
    "Let us start with the following simple definition.\n",
    "\n",
    "1. A **nonzero row or column** in a matrix means a row or column that contains at least one nonzero entry.\n",
    "2. A **leading entry** of a row refers to the left most nonzero entry in a nonzero row."
   ]
  },
  {
   "cell_type": "markdown",
   "id": "9d270220",
   "metadata": {},
   "source": [
    "For example, consider the following matrix:\n",
    "\n",
    "\\begin{equation*}\n",
    "\\begin{pmatrix}\n",
    "0 & 3 & 2 & -1 & 7 \\\\\n",
    "1 & 2 & 5 & 2 & 2 \\\\\n",
    "0 & 0 & 0 & 0 & 0\\\\\n",
    "0 & 0 & -5 & 0 & 2\n",
    "\\end{pmatrix}\n",
    "\\end{equation*}\n",
    "\n",
    "How many nonzero rows are there?  What is the leading entry of the first, second and fourth rows?"
   ]
  },
  {
   "cell_type": "markdown",
   "id": "2a4f70ba",
   "metadata": {},
   "source": [
    "## Matrices in row echelon form"
   ]
  },
  {
   "cell_type": "markdown",
   "id": "bc6a22be",
   "metadata": {},
   "source": [
    "A matrix is in (row) **echelon form** if it has the following three properties:\n",
    "\n",
    "1. All nonzero rows are above any rows consisting of zeros only.\n",
    "2. Each leading entry of a row is in a column to the right of the leading entry of the row above it.\n",
    "3. All entries in a column below a leading entry are zeros."
   ]
  },
  {
   "cell_type": "markdown",
   "id": "e6553376",
   "metadata": {},
   "source": [
    "If a matrix in echelon form satisfies the following additional conditions, then it is in **reduced** (row) echelon form.\n",
    "\n",
    "4. The leading entry in each nonzero row is $1$.\n",
    "5. Each leading entry $1$ is the only nonzero entry in its column."
   ]
  },
  {
   "cell_type": "markdown",
   "id": "3d9064b1",
   "metadata": {},
   "source": [
    "For example, consider the following matrices:\n",
    "\n",
    "\\begin{equation*}\n",
    "A = \\begin{pmatrix}\n",
    "1 & 2 & -1 & 0  \\\\\n",
    "0 & 0 & 0 & 0  \\\\\n",
    "1 & 0 & -1 & 0 \\\\\n",
    "\\end{pmatrix},\n",
    "B = \\begin{pmatrix}\n",
    "0 & 1 \\\\\n",
    "2 & 3  \\\\\n",
    "0 & -1 \\\\\n",
    "\\end{pmatrix},\n",
    "C = \\begin{pmatrix}\n",
    "1 & 2 & 3 & -1  \\\\\n",
    "0 & 0 & 1 & 2  \\\\\n",
    "0 & 0 & 2 & 3 \\\\\n",
    "0 & 0 & 0 & 0\n",
    "\\end{pmatrix},\n",
    "\\end{equation*}"
   ]
  },
  {
   "cell_type": "markdown",
   "id": "f7e51ef7",
   "metadata": {},
   "source": [
    "and\n",
    "\\begin{equation*}\n",
    "D = \\begin{pmatrix}\n",
    "1 & 2 & 3 & 1  \\\\\n",
    "0 & 2 & 0 & 1  \\\\\n",
    "0 & 0 & 0 & -2 \\\\\n",
    "\\end{pmatrix},\n",
    "E = \\begin{pmatrix}\n",
    "1 & 2 & 3 & 1  \\\\\n",
    "0 & 1 & 0 & 1  \\\\\n",
    "0 & 0 & 0 & 1 \\\\\n",
    "\\end{pmatrix},\n",
    "F = \\begin{pmatrix}\n",
    "1 & 0 & 3 & 0  \\\\\n",
    "0 & 1 & 0 & 0  \\\\\n",
    "0 & 0 & 0 & 1 \\\\\n",
    "\\end{pmatrix}\n",
    "\\end{equation*}\n",
    "\n",
    "For each of the matrices $A,B,C,D$, and $E$, tell me which of the five properties above are satisfied, which ones are not satisfied.  Furthermore, tell me which matrices are in echelon form and which ones are in reduced echelon form."
   ]
  },
  {
   "cell_type": "markdown",
   "id": "8087e146",
   "metadata": {},
   "source": [
    "## The row reduction algorithm (also known as Gauss elimination)"
   ]
  },
  {
   "cell_type": "markdown",
   "id": "3a016bea",
   "metadata": {},
   "source": [
    "It is possible to start with any matrix and using only the three following **elementary row operations** below to obtain a matrix in echelon or reduced echelon form.  The three elementary row operations are:\n",
    "\n",
    "1. (Replacement) Replace one row by the sum of itself and a multiple of another row.\n",
    "2. (Interchange) Interchange two rows.\n",
    "3. (Scaling) Multiply all entries in a row by a **nonzero** constant."
   ]
  },
  {
   "cell_type": "markdown",
   "id": "ddd8136c",
   "metadata": {},
   "source": [
    "I will explain the algorithm by going over a few examples.  Consider the matrix\n",
    "\n",
    "\\begin{equation*}\n",
    "A = \\begin{pmatrix}\n",
    "0 & 3 & -6 & 6 & 4 & -5   \\\\\n",
    "3 & -7 & 8 & -5 & 8 & 9  \\\\\n",
    "3 & -9 & 12 & -9 & 6 & 15 \\\\\n",
    "\\end{pmatrix}\n",
    "\\end{equation*}"
   ]
  },
  {
   "cell_type": "markdown",
   "id": "7c55886b",
   "metadata": {},
   "source": [
    "*Step 1*:  Begin with the left most nonzero column.  The position at the top of the column is called the **pivot position**.  Here, the pivot position is at the intersection of the first row with the first column.\n",
    "\n",
    "*Step 2*:  If necessary, interchange two rows to move a nonzero entry at the pivot position.  Any nonzero number in the pivot position is called a **pivot**."
   ]
  },
  {
   "cell_type": "markdown",
   "id": "1c0902ca",
   "metadata": {},
   "source": [
    "\n",
    "\\begin{equation*}\n",
    "\\sim \\begin{pmatrix}\n",
    "3 & -9 & 12 & -9 & 6 & 15 \\\\\n",
    "3 & -7 & 8 & -5 & 8 & 9  \\\\\n",
    "0 & 3 & -6 & 6 & 4 & -5   \\\\\n",
    "\\end{pmatrix}\n",
    "\\end{equation*}\n",
    "\n",
    "via the elementary row operation $R_{1} \\leftrightarrow R_{3}$."
   ]
  },
  {
   "cell_type": "markdown",
   "id": "c0cba0f3",
   "metadata": {},
   "source": [
    "*Step 3*: Use row operations to create zeros everywhere in the column below the pivot.\n",
    "\n",
    "\\begin{equation*}\n",
    "\\sim \\begin{pmatrix}\n",
    "3 & -9 & 12 & -9 & 6 & 15 \\\\\n",
    "0 & 2 & -4 & 4 & 2 & -6  \\\\\n",
    "0 & 3 & -6 & 6 & 4 & -5   \\\\\n",
    "\\end{pmatrix}\n",
    "\\end{equation*}\n",
    "\n",
    "via the elementary row operation $R_{2} \\mapsto R_{2} - R_{1}$."
   ]
  },
  {
   "cell_type": "markdown",
   "id": "b7b6fa62",
   "metadata": {},
   "source": [
    "*Step 4*:  Ignore the row containing the pivot position and cover all rows (if any) above it.  Repeat steps $1$ - $4$ until there are no more nonzero rows to modify."
   ]
  },
  {
   "cell_type": "markdown",
   "id": "d50494cb",
   "metadata": {},
   "source": [
    "\n",
    "\\begin{equation*}\n",
    "\\sim \\begin{pmatrix}\n",
    "3 & -9 & 12 & -9 & 6 & 15 \\\\\n",
    "0 & 1 & -2 & 2 & 1 & -3  \\\\\n",
    "0 & 3 & -6 & 6 & 4 & -5   \\\\\n",
    "\\end{pmatrix}\n",
    "\\end{equation*}\n",
    "\n",
    "via the elementary row operation $R_{2} \\mapsto \\frac{1}{2}R_{2}$."
   ]
  },
  {
   "cell_type": "markdown",
   "id": "c1b7c41d",
   "metadata": {},
   "source": [
    "\\begin{equation*}\n",
    "\\sim \\begin{pmatrix}\n",
    "3 & -9 & 12 & -9 & 6 & 15 \\\\\n",
    "0 & 1 & -2 & 2 & 1 & -3  \\\\\n",
    "0 & 0 & 0 & 0 & 1 & 4   \\\\\n",
    "\\end{pmatrix}\n",
    "\\end{equation*}\n",
    "\n",
    "via the elementary row operation $R_{3} \\mapsto R_{3} - 3R_{2}$."
   ]
  },
  {
   "cell_type": "markdown",
   "id": "af3484fc",
   "metadata": {},
   "source": [
    "This last matrix is in echelon form (which by the way is **not** necessarily unique), but it is not in reduced echelon form since for instance not all pivots are $1$.  In order to get a reduced echelon form, we need one more step:\n",
    "\n",
    "*Step 5*:  Beginning with the rightmost pivot and working upward and to the left, create zeros above each pivot.  If a pivot is not $1$, make it $1$ by a scaling operation."
   ]
  },
  {
   "cell_type": "markdown",
   "id": "e2186b5f",
   "metadata": {},
   "source": [
    "\\begin{equation*}\n",
    "\\sim \\begin{pmatrix}\n",
    "1 & -3 & 4 & -3 & 2 & 5 \\\\\n",
    "0 & 1 & -2 & 2 & 1 & -3  \\\\\n",
    "0 & 0 & 0 & 0 & 1 & 4   \\\\\n",
    "\\end{pmatrix}\n",
    "\\end{equation*}\n",
    "\n",
    "via the elementary row operation $R_{1} \\mapsto \\frac{1}{3}R_{1}$."
   ]
  },
  {
   "cell_type": "markdown",
   "id": "17cf7ae7",
   "metadata": {},
   "source": [
    "\\begin{equation*}\n",
    "\\sim \\begin{pmatrix}\n",
    "1 & -3 & 4 & -3 & 2 & 5 \\\\\n",
    "0 & 1 & -2 & 2 & 0 & -7  \\\\\n",
    "0 & 0 & 0 & 0 & 1 & 4   \\\\\n",
    "\\end{pmatrix}\n",
    "\\end{equation*}\n",
    "\n",
    "via the elementary row operation $R_{2} \\mapsto R_{2} - R_{3}$."
   ]
  },
  {
   "cell_type": "markdown",
   "id": "6e7d5f76",
   "metadata": {},
   "source": [
    "\\begin{equation*}\n",
    "\\sim \\begin{pmatrix}\n",
    "1 & -3 & 4 & -3 & 0 & -3 \\\\\n",
    "0 & 1 & -2 & 2 & 0 & -7  \\\\\n",
    "0 & 0 & 0 & 0 & 1 & 4   \\\\\n",
    "\\end{pmatrix}\n",
    "\\end{equation*}\n",
    "\n",
    "via the elementary row operation $R_{1} \\mapsto R_{1} - 2R_{3}$."
   ]
  },
  {
   "cell_type": "markdown",
   "id": "ba346777",
   "metadata": {},
   "source": [
    "\\begin{equation*}\n",
    "\\sim \\begin{pmatrix}\n",
    "1 & 0 & -2 & 3 & 0 & -24 \\\\\n",
    "0 & 1 & -2 & 2 & 0 & -7  \\\\\n",
    "0 & 0 & 0 & 0 & 1 & 4   \\\\\n",
    "\\end{pmatrix}\n",
    "\\end{equation*}\n",
    "\n",
    "via the elementary row operation $R_{1} \\mapsto R_{1} + 3R_{3}$."
   ]
  },
  {
   "cell_type": "markdown",
   "id": "d6e71192",
   "metadata": {},
   "source": [
    "Now, this last matrix is in reduced echelon form.  Contrary to the echelon form, the reduced echelon form is **unique**!  So no matter how we get there, all of us should have the same final matrix in reduced echelon form."
   ]
  },
  {
   "cell_type": "markdown",
   "id": "a87eb38c",
   "metadata": {},
   "source": [
    "Now, you need to practice a bit.  For each of the following matrices, perform Gauss elimination in order to find the reduced echelon form of the matrix.\n",
    "\n",
    "\\begin{equation*}\n",
    "A =  \\begin{pmatrix}\n",
    "-1 & 1 & -1 & 3  \\\\\n",
    "3 & 1 & -1 & -1   \\\\\n",
    "2 & -1 & -2 & -1    \\\\\n",
    "\\end{pmatrix},\n",
    "B =  \\begin{pmatrix}\n",
    "1 & 2 & 4 & 8  \\\\\n",
    "2 & 4 & 6 & 8   \\\\\n",
    "3 & 6 & 9 & 12    \\\\\n",
    "\\end{pmatrix},\n",
    "C =  \\begin{pmatrix}\n",
    "3 & 0 & -1   \\\\\n",
    "2 & -1 & 1    \\\\\n",
    "1 & 2 & 3     \\\\\n",
    "\\end{pmatrix}\n",
    "\\end{equation*}\n"
   ]
  }
 ],
 "metadata": {
  "kernelspec": {
   "display_name": "SageMath 9.6",
   "language": "sage",
   "name": "sagemath-9.6"
  },
  "language_info": {
   "codemirror_mode": {
    "name": "ipython",
    "version": 3
   },
   "file_extension": ".py",
   "mimetype": "text/x-python",
   "name": "python",
   "nbconvert_exporter": "python",
   "pygments_lexer": "ipython3",
   "version": "3.10.3"
  }
 },
 "nbformat": 4,
 "nbformat_minor": 5
}
